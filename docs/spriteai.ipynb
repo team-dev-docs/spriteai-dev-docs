# SpriteAI Documentation

## Introduction

SpriteAI is a Node.js library for generating game assets using AI. This library provides functions to create character spritesheets, environment sprites, and item sprites for game development.

## Installation

To use SpriteAI, you need to install the following dependencies:

```bash
npm install openai axios sharp jimp
```

## Usage

First, import the required functions from the SpriteAI library:

```javascript
import { 
  generateCharacterSpritesheet, 
  generateEnvironmentSprites, 
  generateItemSprites,
  fetchAvailableAnimationStates,
  fetchAvailableSpriteStyles
} from 'spriteai';
```

## Generating Character Spritesheets

The `generateCharacterSpritesheet` function creates a character spritesheet with multiple animation states.

```javascript
const characterSpritesheet = await generateCharacterSpritesheet('a medieval knight', {
  states: ['idle', 'walk', 'run', 'attack'],
  framesPerState: 6,
  size: '1024x1024',
  style: 'pixel-art',
  padding: 1,
  direction: 'right'
});

console.log(characterSpritesheet);
```

### Options

- `states`: Array of animation states (default: ['idle', 'walk', 'run', 'attack'])
- `framesPerState`: Number of frames per animation state (default: 6)
- `size`: Size of the generated image (default: '1024x1024')
- `style`: Art style of the sprite (default: 'pixel-art')
- `padding`: Padding between frames (default: 1)
- `direction`: Direction the character faces (default: 'right')

## Generating Environment Sprites

The `generateEnvironmentSprites` function creates a tileset of environment elements.

```javascript
const environmentSprites = await generateEnvironmentSprites('forest', {
  elements: 4,
  size: '1024x1024',
  style: 'pixel-art',
  padding: 1,
  theme: 'fantasy'
});

console.log(environmentSprites);
```

### Options

- `elements`: Number of distinct environment elements (default: 4)
- `size`: Size of the generated image (default: '1024x1024')
- `style`: Art style of the sprites (default: 'pixel-art')
- `padding`: Padding between elements (default: 1)
- `theme`: Theme of the environment (default: 'fantasy')

## Generating Item Sprites

The `generateItemSprites` function creates a collection of item sprites for game inventories or pickups.

```javascript
const itemSprites = await generateItemSprites('magical artifacts', {
  itemCount: 4,
  size: '1024x1024',
  style: 'pixel-art',
  padding: 1,
  itemType: 'equipment',
  background: 'white'
});

console.log(itemSprites);
```

### Options

- `itemCount`: Number of distinct items (default: 4)
- `size`: Size of the generated image (default: '1024x1024')
- `style`: Art style of the sprites (default: 'pixel-art')
- `padding`: Padding between items (default: 1)
- `itemType`: Type of items to generate (default: 'equipment')
- `background`: Background color of the sprite sheet (default: 'white')

## Utility Functions

### Fetch Available Animation States

Retrieve a list of available animation states:

```javascript
const animationStates = await fetchAvailableAnimationStates();
console.log(animationStates);
```

### Fetch Available Sprite Styles

Retrieve a list of available sprite styles:

```javascript
const spriteStyles = await fetchAvailableSpriteStyles();
console.log(spriteStyles);
```

## Return Values

All generation functions return an object with the following structure:

- `original`: URL of the original generated image
- `spritesheet`/`tileset`/`itemSheet`: Base64-encoded data URL of the processed image
- `metadata`: Object containing information about the generated sprites

## Note

This library uses OpenAI's DALL-E 3 model for image generation. Ensure you have the necessary API credentials and permissions to use this service.